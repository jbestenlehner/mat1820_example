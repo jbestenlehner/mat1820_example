{
 "cells": [
  {
   "cell_type": "markdown",
   "metadata": {},
   "source": [
    "# Executing Jupyter Notebooks on Colab\n",
    "\n",
    "Jupyter Notebooks are a community standard for communicating and performing interactive computing. It combines computational tasks explanatory text. Colab is a free cloud service by Google to create and share interactive notebooks with code, text, and visualizations.\n",
    "\n",
    ":::{seealso}\n",
    "[Jupyter Project](https://jupyter.org/) and [Colab](https://colab.google/) for more details.\n",
    ":::\n",
    "\n",
    "A few example to help you getting started with Colab and Jupyter Notebooks is given [here](https://colab.research.google.com/#scrollTo=GJBs_flRovLc).\n",
    "\n",
    "To execute log into your <*your_username*>@sheffield.ac.uk google-account\n",
    "\n",
    "![](pictures/colab.png)\n",
    "\n",
    "and click on the little rocket to open this notebook on Colab.\n",
    "\n",
    ":::{Warning}\n",
    "To save changes to the notebook you should make your own copy by selecting *File->Save a copy in Drive* from the menu bar in Colab.\n",
    ":::\n",
    "\n",
    "## Code cells and outputs\n",
    "\n",
    "Code cells can be executed by clicking on the cell to select it and using the keyboard shortcut *Ctrl+Enter* (Windows/Linux) or *Command+Enter* (MacOS). To edit the cell code, just select it and start editing."
   ]
  },
  {
   "cell_type": "code",
   "execution_count": 1,
   "metadata": {
    "scrolled": true
   },
   "outputs": [
    {
     "data": {
      "text/plain": [
       "5"
      ]
     },
     "execution_count": 1,
     "metadata": {},
     "output_type": "execute_result"
    }
   ],
   "source": [
    "2+3"
   ]
  },
  {
   "cell_type": "markdown",
   "metadata": {},
   "source": [
    "Edit the cell above and before some basic caculations.\n",
    "\n",
    ":::{note}\n",
    "The exponent operator is \"**\" instead of \"^\".\n",
    ":::"
   ]
  },
  {
   "cell_type": "code",
   "execution_count": 2,
   "metadata": {},
   "outputs": [
    {
     "data": {
      "text/plain": [
       "8"
      ]
     },
     "execution_count": 2,
     "metadata": {},
     "output_type": "execute_result"
    }
   ],
   "source": [
    "2**3"
   ]
  },
  {
   "cell_type": "markdown",
   "metadata": {},
   "source": [
    "### Defining and manipulating variables"
   ]
  },
  {
   "cell_type": "code",
   "execution_count": 3,
   "metadata": {},
   "outputs": [
    {
     "data": {
      "text/plain": [
       "5"
      ]
     },
     "execution_count": 3,
     "metadata": {},
     "output_type": "execute_result"
    }
   ],
   "source": [
    "a = 2\n",
    "b = 3\n",
    "a + b"
   ]
  }
 ],
 "metadata": {
  "kernelspec": {
   "display_name": "Python 3 (ipykernel)",
   "language": "python",
   "name": "python3"
  },
  "language_info": {
   "codemirror_mode": {
    "name": "ipython",
    "version": 3
   },
   "file_extension": ".py",
   "mimetype": "text/x-python",
   "name": "python",
   "nbconvert_exporter": "python",
   "pygments_lexer": "ipython3",
   "version": "3.8.19"
  },
  "widgets": {
   "application/vnd.jupyter.widget-state+json": {
    "state": {},
    "version_major": 2,
    "version_minor": 0
   }
  }
 },
 "nbformat": 4,
 "nbformat_minor": 4
}